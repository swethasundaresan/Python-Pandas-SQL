{
 "cells": [
  {
   "cell_type": "markdown",
   "metadata": {},
   "source": [
    "Case Study 2: Employee Salary and Job Titles"
   ]
  },
  {
   "cell_type": "code",
   "execution_count": 1,
   "metadata": {},
   "outputs": [
    {
     "name": "stdout",
     "output_type": "stream",
     "text": [
      "Connected successfully!\n",
      "Executed\n"
     ]
    }
   ],
   "source": [
    "import pyodbc\n",
    "import pandas as pd\n",
    "# Connection details\n",
    "server = 'DESKTOP-CTO9G4R\\SQLEXPRESS01'\n",
    "database = 'AdventureWorks2019'\n",
    "username = 'sa'\n",
    "password = 'swetha10'\n",
    " \n",
    "# Connection string\n",
    "connection_string = f'DRIVER={{SQL Server}};SERVER={server};DATABASE={database};UID={username};PWD={password}'\n",
    "\n",
    "# Connect to SQL Server\n",
    "try:\n",
    "    conn = pyodbc.connect(connection_string)\n",
    "    print(\"Connected successfully!\")\n",
    "\n",
    "except Exception as e:\n",
    "    print(f\"Error: {e}\")\n",
    "finally:\n",
    "    print(\"Executed\")"
   ]
  },
  {
   "cell_type": "markdown",
   "metadata": {},
   "source": [
    "EASY"
   ]
  },
  {
   "cell_type": "markdown",
   "metadata": {},
   "source": [
    "1. Select BusinessEntityID and JobTitle columns from the Employee DataFrame."
   ]
  },
  {
   "cell_type": "code",
   "execution_count": 35,
   "metadata": {},
   "outputs": [
    {
     "name": "stderr",
     "output_type": "stream",
     "text": [
      "C:\\Users\\HP\\AppData\\Local\\Temp\\ipykernel_2596\\711762158.py:2: UserWarning: pandas only supports SQLAlchemy connectable (engine/connection) or database string URI or sqlite3 DBAPI2 connection. Other DBAPI2 objects are not tested. Please consider using SQLAlchemy.\n",
      "  employee_data = pd.read_sql(query,conn)\n",
      "C:\\Users\\HP\\AppData\\Local\\Temp\\ipykernel_2596\\711762158.py:5: UserWarning: pandas only supports SQLAlchemy connectable (engine/connection) or database string URI or sqlite3 DBAPI2 connection. Other DBAPI2 objects are not tested. Please consider using SQLAlchemy.\n",
      "  salesperson_data = pd.read_sql(query,conn)\n",
      "C:\\Users\\HP\\AppData\\Local\\Temp\\ipykernel_2596\\711762158.py:8: UserWarning: pandas only supports SQLAlchemy connectable (engine/connection) or database string URI or sqlite3 DBAPI2 connection. Other DBAPI2 objects are not tested. Please consider using SQLAlchemy.\n",
      "  employeeDepartmentHistory_data = pd.read_sql(query,conn)\n"
     ]
    }
   ],
   "source": [
    "query = \"SELECT * FROM [AdventureWorks2019].[HumanResources].[Employee]\"\n",
    "employee_data = pd.read_sql(query,conn)\n",
    "\n",
    "query = \"SELECT * FROM [AdventureWorks2019].[Sales].[SalesPerson]\"\n",
    "salesperson_data = pd.read_sql(query,conn)\n",
    "\n",
    "query = \"SELECT * FROM [AdventureWorks2019].[HumanResources].[EmployeeDepartmentHistory]\"\n",
    "employeeDepartmentHistory_data = pd.read_sql(query,conn)\n"
   ]
  },
  {
   "cell_type": "code",
   "execution_count": 34,
   "metadata": {},
   "outputs": [
    {
     "name": "stdout",
     "output_type": "stream",
     "text": [
      "     BusinessEntityID                       JobTitle\n",
      "0                   1        Chief Executive Officer\n",
      "1                   2  Vice President of Engineering\n",
      "2                   3            Engineering Manager\n",
      "3                   4           Senior Tool Designer\n",
      "4                   5                Design Engineer\n",
      "..                ...                            ...\n",
      "285               286           Sales Representative\n",
      "286               287         European Sales Manager\n",
      "287               288           Sales Representative\n",
      "288               289           Sales Representative\n",
      "289               290           Sales Representative\n",
      "\n",
      "[290 rows x 2 columns]\n"
     ]
    }
   ],
   "source": [
    "\n",
    "employee=employee_data[['BusinessEntityID','JobTitle']]\n",
    "print(employee)"
   ]
  },
  {
   "cell_type": "markdown",
   "metadata": {},
   "source": [
    "for getting only the specific columns, i have directly taken specific columns data from the dataframe "
   ]
  },
  {
   "cell_type": "markdown",
   "metadata": {},
   "source": [
    "2. Filter employees in the Employee DataFrame where JobTitle starts with 'Engineer'."
   ]
  },
  {
   "cell_type": "code",
   "execution_count": 11,
   "metadata": {},
   "outputs": [
    {
     "name": "stdout",
     "output_type": "stream",
     "text": [
      "   BusinessEntityID NationalIDNumber                   LoginID  \\\n",
      "2                 3        509647174  adventure-works\\roberto0   \n",
      "\n",
      "  OrganizationNode  OrganizationLevel             JobTitle   BirthDate  \\\n",
      "2         b'Z\\xc0'                2.0  Engineering Manager  1974-11-12   \n",
      "\n",
      "  MaritalStatus Gender    HireDate  SalariedFlag  VacationHours  \\\n",
      "2             M      M  2007-11-11          True              2   \n",
      "\n",
      "   SickLeaveHours  CurrentFlag                               rowguid  \\\n",
      "2              21         True  9BBBFB2C-EFBB-4217-9AB7-F97689328841   \n",
      "\n",
      "  ModifiedDate  \n",
      "2   2014-06-30  \n"
     ]
    }
   ],
   "source": [
    "filtered_employees = employee_data[employee_data['JobTitle'].str.startswith('Engineer')]\n",
    "print(filtered_employees)"
   ]
  },
  {
   "cell_type": "markdown",
   "metadata": {},
   "source": [
    "str.contains('engineer') gives all the rows contains engineer word in jobtitle, but it doesn't provide specific rows in which engineer in the starting place. For example: Design Engineer, Research and development engineer.\n",
    "So to get only job title start with 'engineer', we can use str.startswith('engineer')"
   ]
  },
  {
   "cell_type": "markdown",
   "metadata": {},
   "source": [
    "3. Sort the Employee DataFrame by JobTitle in descending order."
   ]
  },
  {
   "cell_type": "code",
   "execution_count": 14,
   "metadata": {},
   "outputs": [
    {
     "name": "stdout",
     "output_type": "stream",
     "text": [
      "     BusinessEntityID NationalIDNumber                   LoginID  \\\n",
      "272               273        112432117    adventure-works\\brian3   \n",
      "24                 25        519899904    adventure-works\\james1   \n",
      "1                   2        245797967    adventure-works\\terri0   \n",
      "12                 13        486228782   adventure-works\\janice0   \n",
      "11                 12        480168528  adventure-works\\thierry0   \n",
      "..                ...              ...                       ...   \n",
      "246               247        519756660    adventure-works\\janet0   \n",
      "245               246        663843431   adventure-works\\dragan0   \n",
      "240               241            30845    adventure-works\\david6   \n",
      "247               248        480951955     adventure-works\\mike0   \n",
      "244               245        363910111  adventure-works\\barbara1   \n",
      "\n",
      "    OrganizationNode  OrganizationLevel                       JobTitle  \\\n",
      "272          b'\\x94'                1.0        Vice President of Sales   \n",
      "24              b'x'                1.0   Vice President of Production   \n",
      "1               b'X'                1.0  Vice President of Engineering   \n",
      "12         b'Z\\xe3h'                4.0                  Tool Designer   \n",
      "11         b'Z\\xe3X'                4.0                  Tool Designer   \n",
      "..               ...                ...                            ...   \n",
      "246  b'\\x85\\xb2\\x80'                3.0    Accounts Payable Specialist   \n",
      "245  b'\\x85\\xb1\\x80'                3.0    Accounts Payable Specialist   \n",
      "240      b'\\x85\\xa0'                2.0               Accounts Manager   \n",
      "247  b'\\x85\\xb3\\x80'                3.0                     Accountant   \n",
      "244  b'\\x85\\xb0\\x80'                3.0                     Accountant   \n",
      "\n",
      "      BirthDate MaritalStatus Gender    HireDate  SalariedFlag  VacationHours  \\\n",
      "272  1977-06-06             S      M  2011-02-15          True             10   \n",
      "24   1983-01-07             S      M  2009-02-03          True             64   \n",
      "1    1971-08-01             S      F  2008-01-31          True              1   \n",
      "12   1989-05-28             M      F  2010-12-23         False              8   \n",
      "11   1959-07-29             M      M  2007-12-11         False              9   \n",
      "..          ...           ...    ...         ...           ...            ...   \n",
      "246  1979-03-09             M      F  2009-03-01         False             64   \n",
      "245  1977-02-14             M      M  2009-02-11         False             63   \n",
      "240  1983-07-08             M      M  2009-01-30          True             57   \n",
      "247  1979-07-01             S      M  2009-03-08          True             59   \n",
      "244  1976-01-04             M      F  2009-02-18          True             58   \n",
      "\n",
      "     SickLeaveHours  CurrentFlag                               rowguid  \\\n",
      "272              25         True  F3EC557C-8B41-4EE6-BB0C-E3B93AFF81E5   \n",
      "24               52         True  D7314F24-2AF1-429C-9BBB-4038F45F3E6C   \n",
      "1                20         True  45E8F437-670D-4409-93CB-F9424A40D6EE   \n",
      "12               24         True  954B91B6-5AA7-48C2-8685-6E11C6E5C49A   \n",
      "11               24         True  1D955171-E773-4FAD-8382-40FD898D5D4D   \n",
      "..              ...          ...                                   ...   \n",
      "246              52         True  0C641D77-8675-493F-9947-8C65136559CD   \n",
      "245              51         True  51C54D34-064B-44F7-A6B1-7702BD491980   \n",
      "240              48         True  2DC9D534-F5D1-4A14-8282-0A2A0EB6FD4D   \n",
      "247              49         True  AC35337D-7C75-4DEE-BB11-6564F257FE18   \n",
      "244              49         True  3FFBA84E-8E97-4649-A5E1-859649D83AAE   \n",
      "\n",
      "    ModifiedDate  \n",
      "272   2014-06-30  \n",
      "24    2014-06-30  \n",
      "1     2014-06-30  \n",
      "12    2014-06-30  \n",
      "11    2014-06-30  \n",
      "..           ...  \n",
      "246   2014-06-30  \n",
      "245   2014-06-30  \n",
      "240   2014-06-30  \n",
      "247   2014-06-30  \n",
      "244   2014-06-30  \n",
      "\n",
      "[290 rows x 16 columns]\n"
     ]
    }
   ],
   "source": [
    "sortedjobtitle = employee_data.sort_values(by=['JobTitle'], ascending=False)\n",
    "print(sortedjobtitle)"
   ]
  },
  {
   "cell_type": "markdown",
   "metadata": {},
   "source": [
    "we can sort the jobtitle column using the function which is dataframe.sort_values('column_name',ascending=True/False)"
   ]
  },
  {
   "cell_type": "markdown",
   "metadata": {},
   "source": [
    "4. Retrieve distinct JobTitle values from the Employee DataFrame."
   ]
  },
  {
   "cell_type": "code",
   "execution_count": 16,
   "metadata": {},
   "outputs": [
    {
     "name": "stdout",
     "output_type": "stream",
     "text": [
      "['Chief Executive Officer' 'Vice President of Engineering'\n",
      " 'Engineering Manager' 'Senior Tool Designer' 'Design Engineer'\n",
      " 'Research and Development Manager' 'Research and Development Engineer'\n",
      " 'Tool Designer' 'Senior Design Engineer' 'Marketing Manager'\n",
      " 'Marketing Assistant' 'Marketing Specialist'\n",
      " 'Vice President of Production' 'Production Control Manager'\n",
      " 'Production Supervisor - WC60' 'Production Technician - WC60'\n",
      " 'Production Supervisor - WC10' 'Production Technician - WC10'\n",
      " 'Production Supervisor - WC50' 'Production Technician - WC50'\n",
      " 'Production Supervisor - WC30' 'Production Technician - WC30'\n",
      " 'Production Supervisor - WC40' 'Production Technician - WC40'\n",
      " 'Shipping and Receiving Supervisor' 'Stocker'\n",
      " 'Shipping and Receiving Clerk' 'Production Supervisor - WC20'\n",
      " 'Production Technician - WC20' 'Production Supervisor - WC45'\n",
      " 'Production Technician - WC45' 'Quality Assurance Manager'\n",
      " 'Quality Assurance Supervisor' 'Quality Assurance Technician'\n",
      " 'Document Control Manager' 'Control Specialist'\n",
      " 'Document Control Assistant' 'Master Scheduler' 'Scheduling Assistant'\n",
      " 'Facilities Manager' 'Maintenance Supervisor' 'Janitor'\n",
      " 'Facilities Administrative Assistant' 'Chief Financial Officer'\n",
      " 'Human Resources Manager' 'Human Resources Administrative Assistant'\n",
      " 'Recruiter' 'Benefits Specialist' 'Accounts Manager'\n",
      " 'Accounts Receivable Specialist' 'Accountant'\n",
      " 'Accounts Payable Specialist' 'Finance Manager' 'Purchasing Manager'\n",
      " 'Buyer' 'Purchasing Assistant' 'Assistant to the Chief Financial Officer'\n",
      " 'Information Services Manager' 'Network Manager' 'Network Administrator'\n",
      " 'Application Specialist' 'Database Administrator'\n",
      " 'Vice President of Sales' 'North American Sales Manager'\n",
      " 'Sales Representative' 'Pacific Sales Manager' 'European Sales Manager']\n"
     ]
    }
   ],
   "source": [
    "distinct_Jobtitles = employee_data['JobTitle'].unique()\n",
    "print(distinct_Jobtitles)"
   ]
  },
  {
   "cell_type": "markdown",
   "metadata": {},
   "source": [
    "we can get the distinct values using .unique() function"
   ]
  },
  {
   "cell_type": "markdown",
   "metadata": {},
   "source": [
    "5. Calculate the minimum, maximum, and average salary from the Employee DataFrame."
   ]
  },
  {
   "cell_type": "code",
   "execution_count": 25,
   "metadata": {},
   "outputs": [
    {
     "name": "stdout",
     "output_type": "stream",
     "text": [
      "Minimum salary: 6.5\n",
      "Maximum salary: 125.5\n",
      "Average salary: 17.75880411392405\n"
     ]
    },
    {
     "name": "stderr",
     "output_type": "stream",
     "text": [
      "C:\\Users\\HP\\AppData\\Local\\Temp\\ipykernel_2596\\1168566235.py:2: UserWarning: pandas only supports SQLAlchemy connectable (engine/connection) or database string URI or sqlite3 DBAPI2 connection. Other DBAPI2 objects are not tested. Please consider using SQLAlchemy.\n",
      "  employeePayHistory_data = pd.read_sql(query,conn)\n"
     ]
    }
   ],
   "source": [
    "query = \"SELECT * FROM [HumanResources].[EmployeePayHistory]\"\n",
    "employeePayHistory_data = pd.read_sql(query,conn)\n",
    "min_salary = employeePayHistory_data['Rate'].min()\n",
    "print(f\"Minimum salary: {min_salary}\")\n",
    "\n",
    "max_salary = employeePayHistory_data['Rate'].max()\n",
    "print(f\"Maximum salary: {max_salary}\")\n",
    "\n",
    "avg_salary = employeePayHistory_data['Rate'].mean()\n",
    "print(f\"Average salary: {avg_salary}\")\n"
   ]
  },
  {
   "cell_type": "markdown",
   "metadata": {},
   "source": [
    "we can use .min() to find the minimum value, .max() for maximum value, .mean() for average value.\n",
    "After careful analysis, the minimum rate of pay for employee is 6.5, the maximum rate of pay for employee is 125.5"
   ]
  },
  {
   "cell_type": "markdown",
   "metadata": {},
   "source": [
    "6. Add a new column to the Employee DataFrame indicating if the salary is above the average."
   ]
  },
  {
   "cell_type": "code",
   "execution_count": 27,
   "metadata": {},
   "outputs": [
    {
     "name": "stdout",
     "output_type": "stream",
     "text": [
      "     BusinessEntityID RateChangeDate      Rate  PayFrequency ModifiedDate  \\\n",
      "0                   1     2009-01-14  125.5000             2   2014-06-30   \n",
      "1                   2     2008-01-31   63.4615             2   2014-06-30   \n",
      "2                   3     2007-11-11   43.2692             2   2014-06-30   \n",
      "3                   4     2007-12-05    8.6200             2   2007-11-21   \n",
      "4                   4     2010-05-31   23.7200             2   2010-05-16   \n",
      "..                ...            ...       ...           ...          ...   \n",
      "311               286     2013-05-30   23.0769             2   2014-06-30   \n",
      "312               287     2012-04-16   48.1010             2   2014-06-30   \n",
      "313               288     2013-05-30   23.0769             2   2014-06-30   \n",
      "314               289     2012-05-30   23.0769             2   2014-06-30   \n",
      "315               290     2012-05-30   23.0769             2   2014-06-30   \n",
      "\n",
      "     salary_above_average  \n",
      "0                   False  \n",
      "1                   False  \n",
      "2                   False  \n",
      "3                    True  \n",
      "4                   False  \n",
      "..                    ...  \n",
      "311                 False  \n",
      "312                 False  \n",
      "313                 False  \n",
      "314                 False  \n",
      "315                 False  \n",
      "\n",
      "[316 rows x 6 columns]\n"
     ]
    }
   ],
   "source": [
    "employeePayHistory_data['salary_above_average'] = employeePayHistory_data['Rate']<avg_salary\n",
    "print(employeePayHistory_data)\n",
    "                                                                            "
   ]
  },
  {
   "cell_type": "markdown",
   "metadata": {},
   "source": [
    "7. Filter the Employee DataFrame for employees with salaries below 50,000."
   ]
  },
  {
   "cell_type": "code",
   "execution_count": 29,
   "metadata": {},
   "outputs": [
    {
     "name": "stdout",
     "output_type": "stream",
     "text": [
      "     BusinessEntityID RateChangeDate      Rate  PayFrequency ModifiedDate  \\\n",
      "0                   1     2009-01-14  125.5000             2   2014-06-30   \n",
      "1                   2     2008-01-31   63.4615             2   2014-06-30   \n",
      "2                   3     2007-11-11   43.2692             2   2014-06-30   \n",
      "3                   4     2007-12-05    8.6200             2   2007-11-21   \n",
      "4                   4     2010-05-31   23.7200             2   2010-05-16   \n",
      "..                ...            ...       ...           ...          ...   \n",
      "311               286     2013-05-30   23.0769             2   2014-06-30   \n",
      "312               287     2012-04-16   48.1010             2   2014-06-30   \n",
      "313               288     2013-05-30   23.0769             2   2014-06-30   \n",
      "314               289     2012-05-30   23.0769             2   2014-06-30   \n",
      "315               290     2012-05-30   23.0769             2   2014-06-30   \n",
      "\n",
      "     salary_above_average  \n",
      "0                   False  \n",
      "1                   False  \n",
      "2                   False  \n",
      "3                    True  \n",
      "4                   False  \n",
      "..                    ...  \n",
      "311                 False  \n",
      "312                 False  \n",
      "313                 False  \n",
      "314                 False  \n",
      "315                 False  \n",
      "\n",
      "[316 rows x 6 columns]\n"
     ]
    }
   ],
   "source": [
    "salaries_below_50000=employeePayHistory_data[employeePayHistory_data['Rate']<50000]\n",
    "print(salaries_below_50000)"
   ]
  },
  {
   "cell_type": "markdown",
   "metadata": {},
   "source": [
    "8. Select employees who have no bonuses recorded."
   ]
  },
  {
   "cell_type": "code",
   "execution_count": 31,
   "metadata": {},
   "outputs": [
    {
     "name": "stdout",
     "output_type": "stream",
     "text": [
      "    BusinessEntityID  TerritoryID  SalesQuota  Bonus  CommissionPct  \\\n",
      "0                274          NaN         NaN    0.0            0.0   \n",
      "11               285          NaN         NaN    0.0            0.0   \n",
      "13               287          NaN         NaN    0.0            0.0   \n",
      "\n",
      "       SalesYTD  SalesLastYear                               rowguid  \\\n",
      "0   559697.5639            0.0  48754992-9EE0-4C0E-8C94-9451604E3E02   \n",
      "11  172524.4512            0.0  CFDBEF27-B1F7-4A56-A878-0221C73BAE67   \n",
      "13  519905.9320            0.0  1DD1F689-DF74-4149-8600-59555EEF154B   \n",
      "\n",
      "   ModifiedDate  \n",
      "0    2010-12-28  \n",
      "11   2013-03-07  \n",
      "13   2012-04-09  \n"
     ]
    }
   ],
   "source": [
    "no_bonus = salesperson_data[salesperson_data['Bonus']==0]\n",
    "print(no_bonus)"
   ]
  },
  {
   "cell_type": "markdown",
   "metadata": {},
   "source": [
    "MEDIUM"
   ]
  },
  {
   "cell_type": "markdown",
   "metadata": {},
   "source": [
    "9. Calculate the average Salary for employees grouped by DepartmentID."
   ]
  },
  {
   "cell_type": "code",
   "execution_count": 37,
   "metadata": {},
   "outputs": [
    {
     "name": "stdout",
     "output_type": "stream",
     "text": [
      "    DepartmentID       Rate\n",
      "0              1  33.672389\n",
      "1              2  23.505400\n",
      "2              3  29.971944\n",
      "3              4  18.936429\n",
      "4              5  20.148988\n",
      "5              6  43.673100\n",
      "6              7  13.540932\n",
      "7              8  16.774612\n",
      "8              9  18.024817\n",
      "9             10  29.774215\n",
      "10            11  34.158630\n",
      "11            12  14.388460\n",
      "12            13  17.238711\n",
      "13            14  13.031600\n",
      "14            15  10.871800\n",
      "15            16  68.303475\n"
     ]
    }
   ],
   "source": [
    "merge_table = pd.merge(employeeDepartmentHistory_data,employeePayHistory_data,on='BusinessEntityID')\n",
    "average_salary = merge_table.groupby('DepartmentID')['Rate'].mean().reset_index()\n",
    "\n",
    "print(average_salary)"
   ]
  },
  {
   "cell_type": "markdown",
   "metadata": {},
   "source": [
    "10. Left merge the Employee and Salary DataFrames to include all employees, even if they don't have a salary record."
   ]
  },
  {
   "cell_type": "code",
   "execution_count": 40,
   "metadata": {},
   "outputs": [
    {
     "name": "stdout",
     "output_type": "stream",
     "text": [
      "     index  BusinessEntityID NationalIDNumber                   LoginID  \\\n",
      "0        0                 1        295847284      adventure-works\\ken0   \n",
      "1        1                 2        245797967    adventure-works\\terri0   \n",
      "2        2                 3        509647174  adventure-works\\roberto0   \n",
      "3        3                 4        112457891      adventure-works\\rob0   \n",
      "4        4                 4        112457891      adventure-works\\rob0   \n",
      "..     ...               ...              ...                       ...   \n",
      "311    311               286        758596752     adventure-works\\lynn0   \n",
      "312    312               287        982310417      adventure-works\\amy0   \n",
      "313    313               288        954276278   adventure-works\\rachel0   \n",
      "314    314               289        668991357      adventure-works\\jae0   \n",
      "315    315               290        134219713   adventure-works\\ranjit0   \n",
      "\n",
      "    OrganizationNode  OrganizationLevel                       JobTitle  \\\n",
      "0               None                NaN        Chief Executive Officer   \n",
      "1               b'X'                1.0  Vice President of Engineering   \n",
      "2           b'Z\\xc0'                2.0            Engineering Manager   \n",
      "3           b'Z\\xd6'                3.0           Senior Tool Designer   \n",
      "4           b'Z\\xd6'                3.0           Senior Tool Designer   \n",
      "..               ...                ...                            ...   \n",
      "311      b'\\x95\\xab'                3.0           Sales Representative   \n",
      "312      b'\\x95\\xe0'                2.0         European Sales Manager   \n",
      "313      b'\\x95\\xeb'                3.0           Sales Representative   \n",
      "314      b'\\x95\\xed'                3.0           Sales Representative   \n",
      "315      b'\\x95\\xef'                3.0           Sales Representative   \n",
      "\n",
      "      BirthDate MaritalStatus Gender  ... VacationHours  SickLeaveHours  \\\n",
      "0    1969-01-29             S      M  ...            99              69   \n",
      "1    1971-08-01             S      F  ...             1              20   \n",
      "2    1974-11-12             M      M  ...             2              21   \n",
      "3    1974-12-23             S      M  ...            48              80   \n",
      "4    1974-12-23             S      M  ...            48              80   \n",
      "..          ...           ...    ...  ...           ...             ...   \n",
      "311  1977-02-14             S      F  ...            36              38   \n",
      "312  1957-09-20             M      F  ...            21              30   \n",
      "313  1975-07-09             S      F  ...            35              37   \n",
      "314  1968-03-17             M      F  ...            37              38   \n",
      "315  1975-09-30             S      M  ...            34              37   \n",
      "\n",
      "     CurrentFlag                               rowguid  ModifiedDate_x  \\\n",
      "0           True  F01251E5-96A3-448D-981E-0F99D789110D      2014-06-30   \n",
      "1           True  45E8F437-670D-4409-93CB-F9424A40D6EE      2014-06-30   \n",
      "2           True  9BBBFB2C-EFBB-4217-9AB7-F97689328841      2014-06-30   \n",
      "3           True  59747955-87B8-443F-8ED4-F8AD3AFDF3A9      2014-06-30   \n",
      "4           True  59747955-87B8-443F-8ED4-F8AD3AFDF3A9      2014-06-30   \n",
      "..           ...                                   ...             ...   \n",
      "311         True  4A9A8407-A680-4A6B-8D03-511CB58F9A8A      2014-06-30   \n",
      "312         True  66D66445-EE78-4676-9E66-0E22D6109A92      2014-06-30   \n",
      "313         True  B9BF7741-E0CA-4F37-ACDE-A4F78C6D03E9      2014-06-30   \n",
      "314         True  723A5921-D8A1-4659-9BC4-13C4CF7C9C91      2014-06-30   \n",
      "315         True  604213F9-DD0F-43B4-BDD2-C96E93D3F4BF      2014-06-30   \n",
      "\n",
      "    RateChangeDate      Rate PayFrequency  ModifiedDate_y  \\\n",
      "0       2009-01-14  125.5000            2      2014-06-30   \n",
      "1       2008-01-31   63.4615            2      2014-06-30   \n",
      "2       2007-11-11   43.2692            2      2014-06-30   \n",
      "3       2007-12-05    8.6200            2      2007-11-21   \n",
      "4       2010-05-31   23.7200            2      2010-05-16   \n",
      "..             ...       ...          ...             ...   \n",
      "311     2013-05-30   23.0769            2      2014-06-30   \n",
      "312     2012-04-16   48.1010            2      2014-06-30   \n",
      "313     2013-05-30   23.0769            2      2014-06-30   \n",
      "314     2012-05-30   23.0769            2      2014-06-30   \n",
      "315     2012-05-30   23.0769            2      2014-06-30   \n",
      "\n",
      "     salary_above_average  \n",
      "0                   False  \n",
      "1                   False  \n",
      "2                   False  \n",
      "3                    True  \n",
      "4                   False  \n",
      "..                    ...  \n",
      "311                 False  \n",
      "312                 False  \n",
      "313                 False  \n",
      "314                 False  \n",
      "315                 False  \n",
      "\n",
      "[316 rows x 22 columns]\n"
     ]
    }
   ],
   "source": [
    "merge_employee_salary = pd.merge(employee_data,employeePayHistory_data, on = 'BusinessEntityID', how='left').reset_index()\n",
    "print(merge_employee_salary)"
   ]
  },
  {
   "cell_type": "markdown",
   "metadata": {},
   "source": [
    "11. Filter employees hired within the last 5 years using date calculations."
   ]
  },
  {
   "cell_type": "code",
   "execution_count": 48,
   "metadata": {},
   "outputs": [
    {
     "name": "stdout",
     "output_type": "stream",
     "text": [
      "Empty DataFrame\n",
      "Columns: [BusinessEntityID, NationalIDNumber, LoginID, OrganizationNode, OrganizationLevel, JobTitle, BirthDate, MaritalStatus, Gender, HireDate, SalariedFlag, VacationHours, SickLeaveHours, CurrentFlag, rowguid, ModifiedDate]\n",
      "Index: []\n"
     ]
    }
   ],
   "source": [
    "\n",
    "from datetime import datetime\n",
    "\n",
    "current_date = pd.to_datetime(datetime.now())\n",
    "\n",
    "five_years_ago = current_date - pd.DateOffset(years=5)\n",
    "\n",
    "hired_employees_last5yrs = employee_data[employee_data['HireDate'] >= five_years_ago]\n",
    "\n",
    "print(hired_employees_last5yrs)\n"
   ]
  },
  {
   "cell_type": "markdown",
   "metadata": {},
   "source": [
    "Since the most recent hiredate is 2013-05-30, there is no value for last 5 years which is from 2019 to 2024. so it provides empty dataframe"
   ]
  },
  {
   "cell_type": "code",
   "execution_count": 47,
   "metadata": {},
   "outputs": [
    {
     "name": "stdout",
     "output_type": "stream",
     "text": [
      "2013-05-30 00:00:00\n"
     ]
    }
   ],
   "source": [
    "most_recent_hire_date = employee_data['HireDate'].max()\n",
    "print(most_recent_hire_date)"
   ]
  },
  {
   "cell_type": "markdown",
   "metadata": {},
   "source": [
    "12. Group employees by JobTitle and filter groups with more than 5 employees."
   ]
  },
  {
   "cell_type": "code",
   "execution_count": 55,
   "metadata": {},
   "outputs": [
    {
     "name": "stdout",
     "output_type": "stream",
     "text": [
      "     index  BusinessEntityID NationalIDNumber                   LoginID  \\\n",
      "0       27                28         14417807      adventure-works\\guy1   \n",
      "1       28                29        948320468     adventure-works\\mark1   \n",
      "2       29                30        410742000   adventure-works\\britta0   \n",
      "3       30                31        750246141   adventure-works\\margie0   \n",
      "4       31                32        330211482  adventure-works\\rebecca0   \n",
      "..     ...               ...              ...                       ...   \n",
      "175    283               284         90836195     adventure-works\\tete0   \n",
      "176    285               286        758596752     adventure-works\\lynn0   \n",
      "177    287               288        954276278   adventure-works\\rachel0   \n",
      "178    288               289        668991357      adventure-works\\jae0   \n",
      "179    289               290        134219713   adventure-works\\ranjit0   \n",
      "\n",
      "    OrganizationNode  OrganizationLevel                      JobTitle  \\\n",
      "0       b'z\\xd6\\xb0'                4.0  Production Technician - WC60   \n",
      "1       b'z\\xd6\\xd0'                4.0  Production Technician - WC60   \n",
      "2       b'z\\xd6\\xf0'                4.0  Production Technician - WC60   \n",
      "3       b'z\\xd7\\x08'                4.0  Production Technician - WC60   \n",
      "4       b'z\\xd7\\x18'                4.0  Production Technician - WC60   \n",
      "..               ...                ...                           ...   \n",
      "175        b'\\x95u@'                3.0          Sales Representative   \n",
      "176      b'\\x95\\xab'                3.0          Sales Representative   \n",
      "177      b'\\x95\\xeb'                3.0          Sales Representative   \n",
      "178      b'\\x95\\xed'                3.0          Sales Representative   \n",
      "179      b'\\x95\\xef'                3.0          Sales Representative   \n",
      "\n",
      "      BirthDate MaritalStatus Gender   HireDate  SalariedFlag  VacationHours  \\\n",
      "0    1988-03-13             M      M 2006-06-30         False             21   \n",
      "1    1979-09-25             S      M 2009-01-23         False             19   \n",
      "2    1989-09-28             M      F 2009-01-29         False             14   \n",
      "3    1986-05-20             M      F 2009-01-04         False             18   \n",
      "4    1977-07-10             M      F 2008-12-29         False             23   \n",
      "..          ...           ...    ...        ...           ...            ...   \n",
      "175  1978-01-05             M      M 2012-09-30          True             39   \n",
      "176  1977-02-14             S      F 2013-05-30          True             36   \n",
      "177  1975-07-09             S      F 2013-05-30          True             35   \n",
      "178  1968-03-17             M      F 2012-05-30          True             37   \n",
      "179  1975-09-30             S      M 2012-05-30          True             34   \n",
      "\n",
      "     SickLeaveHours  CurrentFlag                               rowguid  \\\n",
      "0                30         True  AAE1D04A-C237-4974-B4D5-935247737718   \n",
      "1                29         True  CDB2C6DF-93E5-4558-91C8-424D5E7C658B   \n",
      "2                27         True  FC12677F-42F8-4790-AD69-685088ED7E5F   \n",
      "3                29         True  352D6E2F-655B-49A2-9FEC-EFD7D8CD0D30   \n",
      "4                31         True  BDADEB5C-A596-4DA1-88BA-842C7A0CC10F   \n",
      "..              ...          ...                                   ...   \n",
      "175              39         True  0C67CE00-DE78-4712-908F-06939A2C58D5   \n",
      "176              38         True  4A9A8407-A680-4A6B-8D03-511CB58F9A8A   \n",
      "177              37         True  B9BF7741-E0CA-4F37-ACDE-A4F78C6D03E9   \n",
      "178              38         True  723A5921-D8A1-4659-9BC4-13C4CF7C9C91   \n",
      "179              37         True  604213F9-DD0F-43B4-BDD2-C96E93D3F4BF   \n",
      "\n",
      "    ModifiedDate  \n",
      "0     2014-06-30  \n",
      "1     2014-06-30  \n",
      "2     2014-06-30  \n",
      "3     2014-06-30  \n",
      "4     2014-06-30  \n",
      "..           ...  \n",
      "175   2014-06-30  \n",
      "176   2014-06-30  \n",
      "177   2014-06-30  \n",
      "178   2014-06-30  \n",
      "179   2014-06-30  \n",
      "\n",
      "[180 rows x 17 columns]\n"
     ]
    }
   ],
   "source": [
    "employees = employee_data.groupby('JobTitle').filter(lambda group : len(group)>5).reset_index()\n",
    "print(employees)"
   ]
  },
  {
   "cell_type": "markdown",
   "metadata": {},
   "source": [
    "13. Identify the top 3 departments with the highest average salary."
   ]
  },
  {
   "cell_type": "code",
   "execution_count": 56,
   "metadata": {},
   "outputs": [
    {
     "name": "stdout",
     "output_type": "stream",
     "text": [
      "    DepartmentID       Rate\n",
      "15            16  68.303475\n",
      "5              6  43.673100\n",
      "10            11  34.158630\n"
     ]
    }
   ],
   "source": [
    "merged_data = pd.merge(employeeDepartmentHistory_data, employeePayHistory_data, on='BusinessEntityID')\n",
    "\n",
    "average_salary_by_department = merged_data.groupby('DepartmentID')['Rate'].mean().reset_index()\n",
    "\n",
    "top_3_departments = average_salary_by_department.sort_values(by='Rate', ascending=False).head(3)\n",
    "\n",
    "print(top_3_departments)"
   ]
  },
  {
   "cell_type": "markdown",
   "metadata": {},
   "source": [
    "14. Calculate the percentage increase in salary for employees who received a raise."
   ]
  },
  {
   "cell_type": "code",
   "execution_count": 58,
   "metadata": {},
   "outputs": [
    {
     "name": "stdout",
     "output_type": "stream",
     "text": [
      "    BusinessEntityID RateChangeDate     Rate  prev_rate  percent_increase\n",
      "0                  4     2010-05-31  23.7200     8.6200        175.174014\n",
      "1                  4     2011-12-15  29.8462    23.7200         25.827150\n",
      "2                 16     2009-07-15  28.7500    24.0000         19.791667\n",
      "3                 16     2012-04-30  37.5000    28.7500         30.434783\n",
      "4                167     2011-12-01   7.2500     6.5000         11.538462\n",
      "5                167     2013-07-14   9.5000     7.2500         31.034483\n",
      "6                170     2011-12-01   7.2500     6.5000         11.538462\n",
      "7                170     2013-07-14   9.5000     7.2500         31.034483\n",
      "8                172     2011-12-01   7.2500     6.5000         11.538462\n",
      "9                172     2013-07-14   9.5000     7.2500         31.034483\n",
      "10               174     2011-12-01   7.2500     6.7500          7.407407\n",
      "11               174     2013-07-14   9.5000     7.2500         31.034483\n",
      "12               175     2011-12-01   7.2500     6.5000         11.538462\n",
      "13               175     2013-07-14   9.5000     7.2500         31.034483\n",
      "14               176     2011-12-01   7.2500     6.5000         11.538462\n",
      "15               176     2013-07-14   9.5000     7.2500         31.034483\n",
      "16               177     2011-12-01   7.2500     6.5000         11.538462\n",
      "17               177     2013-07-14   9.5000     7.2500         31.034483\n",
      "18               178     2011-12-01   7.0000     6.5000          7.692308\n",
      "19               178     2013-07-14   9.5000     7.0000         35.714286\n",
      "20               224     2011-08-31  13.5000     8.6200         56.612529\n",
      "21               224     2012-01-01  16.0000    13.5000         18.518519\n",
      "22               234     2011-11-14  48.5577    39.0600         24.315668\n",
      "23               234     2012-01-29  60.0962    48.5577         23.762452\n",
      "24               250     2011-07-30  22.5000     9.8600        128.194726\n",
      "25               250     2012-07-14  30.0000    22.5000         33.333333\n"
     ]
    }
   ],
   "source": [
    "employeePayHistory_data = employeePayHistory_data.sort_values(by=['BusinessEntityID', 'RateChangeDate'])\n",
    "\n",
    "employeePayHistory_data['prev_rate'] = employeePayHistory_data.groupby('BusinessEntityID')['Rate'].shift(1)\n",
    "employeePayHistory_data['percent_increase'] = ((employeePayHistory_data['Rate'] - employeePayHistory_data['prev_rate']) / employeePayHistory_data['prev_rate']) * 100\n",
    "\n",
    "employees_with_raise = employeePayHistory_data.dropna(subset=['prev_rate'])\n",
    "\n",
    "employees_with_raise = employees_with_raise[employees_with_raise['percent_increase'] > 0].reset_index()\n",
    "\n",
    "print(employees_with_raise[['BusinessEntityID', 'RateChangeDate', 'Rate', 'prev_rate', 'percent_increase']])\n"
   ]
  },
  {
   "cell_type": "markdown",
   "metadata": {},
   "source": [
    "15. Merge the Employee DataFrame with a performance review DataFrame on EmployeeID."
   ]
  },
  {
   "cell_type": "code",
   "execution_count": 59,
   "metadata": {},
   "outputs": [
    {
     "name": "stdout",
     "output_type": "stream",
     "text": [
      "     BusinessEntityID                       JobTitle      Rate RateChangeDate  \\\n",
      "0                   1        Chief Executive Officer  125.5000     2009-01-14   \n",
      "1                   2  Vice President of Engineering   63.4615     2008-01-31   \n",
      "2                   3            Engineering Manager   43.2692     2007-11-11   \n",
      "3                   4           Senior Tool Designer    8.6200     2007-12-05   \n",
      "4                   4           Senior Tool Designer   23.7200     2010-05-31   \n",
      "..                ...                            ...       ...            ...   \n",
      "311               286           Sales Representative   23.0769     2013-05-30   \n",
      "312               287         European Sales Manager   48.1010     2012-04-16   \n",
      "313               288           Sales Representative   23.0769     2013-05-30   \n",
      "314               289           Sales Representative   23.0769     2012-05-30   \n",
      "315               290           Sales Representative   23.0769     2012-05-30   \n",
      "\n",
      "     prev_rate  percent_increase  \n",
      "0          NaN               NaN  \n",
      "1          NaN               NaN  \n",
      "2          NaN               NaN  \n",
      "3          NaN               NaN  \n",
      "4         8.62        175.174014  \n",
      "..         ...               ...  \n",
      "311        NaN               NaN  \n",
      "312        NaN               NaN  \n",
      "313        NaN               NaN  \n",
      "314        NaN               NaN  \n",
      "315        NaN               NaN  \n",
      "\n",
      "[316 rows x 6 columns]\n"
     ]
    }
   ],
   "source": [
    "merged_data = pd.merge(employee_data, employeePayHistory_data, on='BusinessEntityID', how='left')\n",
    "\n",
    "#to track salary progression\n",
    "merged_data = merged_data.sort_values(by=['BusinessEntityID', 'RateChangeDate'])\n",
    "\n",
    "#to analyze performance based on salary increases\n",
    "merged_data['prev_rate'] = merged_data.groupby('BusinessEntityID')['Rate'].shift(1)\n",
    "\n",
    "# percentage salary increase to evaluate performance\n",
    "merged_data['percent_increase'] = ((merged_data['Rate'] - merged_data['prev_rate']) / merged_data['prev_rate']) * 100\n",
    "\n",
    "print(merged_data[['BusinessEntityID', 'JobTitle', 'Rate', 'RateChangeDate', 'prev_rate', 'percent_increase']])\n"
   ]
  },
  {
   "cell_type": "markdown",
   "metadata": {},
   "source": [
    "16. Filter employees who have a performance rating of 'Excellent'."
   ]
  },
  {
   "cell_type": "code",
   "execution_count": 60,
   "metadata": {},
   "outputs": [
    {
     "name": "stdout",
     "output_type": "stream",
     "text": [
      "     BusinessEntityID                      JobTitle     Rate  prev_rate  \\\n",
      "4                   4          Senior Tool Designer  23.7200     8.6200   \n",
      "5                   4          Senior Tool Designer  29.8462    23.7200   \n",
      "19                 16             Marketing Manager  37.5000    28.7500   \n",
      "172               167  Production Technician - WC30   9.5000     7.2500   \n",
      "177               170  Production Technician - WC30   9.5000     7.2500   \n",
      "181               172  Production Technician - WC30   9.5000     7.2500   \n",
      "185               174  Production Technician - WC30   9.5000     7.2500   \n",
      "188               175  Production Technician - WC30   9.5000     7.2500   \n",
      "191               176  Production Technician - WC30   9.5000     7.2500   \n",
      "194               177  Production Technician - WC30   9.5000     7.2500   \n",
      "197               178  Production Technician - WC30   9.5000     7.0000   \n",
      "244               224          Scheduling Assistant  13.5000     8.6200   \n",
      "256               234       Chief Financial Officer  48.5577    39.0600   \n",
      "257               234       Chief Financial Officer  60.0962    48.5577   \n",
      "274               250            Purchasing Manager  22.5000     9.8600   \n",
      "275               250            Purchasing Manager  30.0000    22.5000   \n",
      "\n",
      "     percent_increase  \n",
      "4          175.174014  \n",
      "5           25.827150  \n",
      "19          30.434783  \n",
      "172         31.034483  \n",
      "177         31.034483  \n",
      "181         31.034483  \n",
      "185         31.034483  \n",
      "188         31.034483  \n",
      "191         31.034483  \n",
      "194         31.034483  \n",
      "197         35.714286  \n",
      "244         56.612529  \n",
      "256         24.315668  \n",
      "257         23.762452  \n",
      "274        128.194726  \n",
      "275         33.333333  \n"
     ]
    }
   ],
   "source": [
    "merged_data = pd.merge(employee_data, employeePayHistory_data, on='BusinessEntityID', how='left')\n",
    "\n",
    "#to track salary progression\n",
    "merged_data = merged_data.sort_values(by=['BusinessEntityID', 'RateChangeDate'])\n",
    "\n",
    "# Define \"Excellent\" performance based on salary increase (e.g., 20%)\n",
    "excellent_performance = 20\n",
    "\n",
    "# Filter employees whose salary increase is greater than the excellent_performance value\n",
    "excellent_performance_employees = merged_data[merged_data['percent_increase'] > excellent_performance]\n",
    "\n",
    "# Display employees with \"Excellent\" performance based on salary increase\n",
    "print(excellent_performance_employees[['BusinessEntityID', 'JobTitle', 'Rate', 'prev_rate', 'percent_increase']])\n"
   ]
  },
  {
   "cell_type": "markdown",
   "metadata": {},
   "source": [
    "To find out the excellent performer, i have defined the excellent performance metric by focusing on salary percentage increase, if the salary percentage increase is high like greater than 20, then it's considered as excellent performance."
   ]
  },
  {
   "cell_type": "markdown",
   "metadata": {},
   "source": [
    "HARD"
   ]
  },
  {
   "cell_type": "markdown",
   "metadata": {},
   "source": [
    "17. Identify employees who have held more than one job title using groupings."
   ]
  },
  {
   "cell_type": "code",
   "execution_count": 62,
   "metadata": {},
   "outputs": [
    {
     "name": "stdout",
     "output_type": "stream",
     "text": [
      "Empty DataFrame\n",
      "Columns: [BusinessEntityID, NationalIDNumber, LoginID, OrganizationNode, OrganizationLevel, JobTitle, BirthDate, MaritalStatus, Gender, HireDate, SalariedFlag, VacationHours, SickLeaveHours, CurrentFlag, rowguid, ModifiedDate]\n",
      "Index: []\n"
     ]
    }
   ],
   "source": [
    "job_title_counts = employee_data.groupby('BusinessEntityID')['JobTitle'].nunique()\n",
    "\n",
    "employees_multiple_titles = employee_data[employee_data['BusinessEntityID'].isin(job_title_counts[job_title_counts > 1].index)]\n",
    "\n",
    "print(employees_multiple_titles)\n"
   ]
  },
  {
   "cell_type": "markdown",
   "metadata": {},
   "source": [
    "After careful analysis, there is no employee who is having more than one job title."
   ]
  },
  {
   "cell_type": "markdown",
   "metadata": {},
   "source": [
    "18. Find the top 5 highest-paid employees using pandas functions."
   ]
  },
  {
   "cell_type": "code",
   "execution_count": 63,
   "metadata": {},
   "outputs": [
    {
     "name": "stdout",
     "output_type": "stream",
     "text": [
      "     BusinessEntityID RateChangeDate      Rate  PayFrequency ModifiedDate  \\\n",
      "0                   1     2009-01-14  125.5000             2   2014-06-30   \n",
      "28                 25     2009-02-03   84.1346             2   2014-06-30   \n",
      "298               273     2011-02-15   72.1154             2   2014-06-30   \n",
      "1                   2     2008-01-31   63.4615             2   2014-06-30   \n",
      "257               234     2012-01-29   60.0962             2   2012-01-15   \n",
      "\n",
      "     salary_above_average  prev_rate  percent_increase  \n",
      "0                   False        NaN               NaN  \n",
      "28                  False        NaN               NaN  \n",
      "298                 False        NaN               NaN  \n",
      "1                   False        NaN               NaN  \n",
      "257                 False    48.5577         23.762452  \n"
     ]
    }
   ],
   "source": [
    "highest_paid_employees = employeePayHistory_data.sort_values(by='Rate', ascending=False).head(5)\n",
    "print(highest_paid_employees)"
   ]
  },
  {
   "cell_type": "markdown",
   "metadata": {},
   "source": [
    "19. Define a function to update employee salaries based on performance reviews."
   ]
  },
  {
   "cell_type": "code",
   "execution_count": 76,
   "metadata": {},
   "outputs": [
    {
     "name": "stdout",
     "output_type": "stream",
     "text": [
      "   BusinessEntityID              JobTitle PerformanceReview      Rate  \\\n",
      "0                 1               Manager         Excellent  125.5000   \n",
      "1                 2      Senior Developer              Good   63.4615   \n",
      "2                 3              Engineer     Above Average   43.2692   \n",
      "3                 4  Sales Representative           Average    8.6200   \n",
      "4                 4  Sales Representative           Average   23.7200   \n",
      "5                 4  Sales Representative           Average   29.8462   \n",
      "6                 5       Design Engineer     Above Average   32.6923   \n",
      "\n",
      "   UpdatedRate  \n",
      "0   138.050000  \n",
      "1    66.634575  \n",
      "2    44.567276  \n",
      "3     8.792400  \n",
      "4    24.194400  \n",
      "5    30.443124  \n",
      "6    33.673069  \n"
     ]
    }
   ],
   "source": [
    "import pandas as pd\n",
    "\n",
    "def update_salaries(employee_data, employeePayHistory_data):\n",
    "    merged_data = pd.merge(employee_data, employeePayHistory_data, on='BusinessEntityID', how='left')\n",
    "    \n",
    "    performance_map = {\n",
    "        'Manager': 'Excellent',\n",
    "        'Senior': 'Good',\n",
    "        'Engineer': 'Above Average',\n",
    "        'Sales': 'Average'\n",
    "    }\n",
    "    \n",
    "    salary_increase = {\n",
    "        'Excellent': 0.10,\n",
    "        'Good': 0.05,\n",
    "        'Above Average': 0.03,\n",
    "        'Average': 0.02\n",
    "    }\n",
    "    \n",
    "    # Create 'PerformanceReview' based on JobTitle\n",
    "    merged_data['PerformanceReview'] = merged_data['JobTitle'].apply(\n",
    "        lambda title: next((review for key, review in performance_map.items() if key in title), 'Average')\n",
    "    )\n",
    "    \n",
    "    # Update salaries based on the performance review\n",
    "    merged_data['UpdatedRate'] = merged_data['Rate'] * (1 + merged_data['PerformanceReview'].map(salary_increase))\n",
    "    \n",
    "    return merged_data\n",
    "\n",
    "updated_employee_data = update_salaries(employee_data, employeePayHistory_data)\n",
    "print(updated_employee_data[['BusinessEntityID', 'JobTitle', 'PerformanceReview', 'Rate', 'UpdatedRate']])\n"
   ]
  },
  {
   "cell_type": "markdown",
   "metadata": {},
   "source": [
    "As we didn't had the performance review column, we have created new performance review based on the role like manager, senior. And then to update the salary, we updated the salary based on the performance review like if the performance review is excellent, then the salary increase will be 0.10 percent."
   ]
  },
  {
   "cell_type": "markdown",
   "metadata": {},
   "source": [
    "20. Calculate a running total of employee salaries using pandas window functions."
   ]
  },
  {
   "cell_type": "code",
   "execution_count": 78,
   "metadata": {},
   "outputs": [
    {
     "name": "stdout",
     "output_type": "stream",
     "text": [
      "     BusinessEntityID      Rate  RunningTotal\n",
      "0                   1  125.5000      125.5000\n",
      "1                   2   63.4615      188.9615\n",
      "2                   3   43.2692      232.2307\n",
      "3                   4    8.6200      240.8507\n",
      "4                   4   23.7200      264.5707\n",
      "..                ...       ...           ...\n",
      "311               286   23.0769     5494.4504\n",
      "312               287   48.1010     5542.5514\n",
      "313               288   23.0769     5565.6283\n",
      "314               289   23.0769     5588.7052\n",
      "315               290   23.0769     5611.7821\n",
      "\n",
      "[316 rows x 3 columns]\n"
     ]
    }
   ],
   "source": [
    "# Calculate the running total of salaries (cumulative sum)\n",
    "employeePayHistory_data['RunningTotal'] = employeePayHistory_data['Rate'].cumsum()\n",
    "\n",
    "print(employeePayHistory_data[['BusinessEntityID', 'Rate', 'RunningTotal']])\n"
   ]
  },
  {
   "cell_type": "markdown",
   "metadata": {},
   "source": [
    "21. Analyze the relationship between years of experience and salary."
   ]
  },
  {
   "cell_type": "code",
   "execution_count": 94,
   "metadata": {},
   "outputs": [
    {
     "name": "stdout",
     "output_type": "stream",
     "text": [
      "Correlation between Years of Experience and Salary: 0.61\n",
      "Average Salary: 81000.00\n",
      "Average Years of Experience: 9.00\n",
      "\n",
      "Merged Data:\n",
      "   BusinessEntityID   JobTitle   HireDate  YearsOfExperience   Rate\n",
      "0                 1    Manager 2010-01-14                 14  85000\n",
      "1                 2   Engineer 2012-03-10                 12  90000\n",
      "2                 3  Developer 2015-07-01                  9  95000\n",
      "3                 4    Analyst 2018-06-01                  6  60000\n",
      "4                 5  Sales Rep 2020-01-01                  4  75000\n"
     ]
    }
   ],
   "source": [
    "employee_data['HireDate'] = pd.to_datetime(employee_data['HireDate'])\n",
    "\n",
    "# Calculate Years of Experience\n",
    "current_date = pd.to_datetime('today')\n",
    "employee_data['YearsOfExperience'] = (current_date - employee_data['HireDate']).dt.days // 365\n",
    "\n",
    "# Merge the two DataFrames on 'BusinessEntityID'\n",
    "merged_data = pd.merge(employee_data, employeePayHistory_data, on='BusinessEntityID', how='left')\n",
    "\n",
    "# Calculate correlation between YearsOfExperience and Rate\n",
    "correlation = merged_data[['YearsOfExperience', 'Rate']].corr().iloc[0, 1]\n",
    "\n",
    "print(f\"Correlation between Years of Experience and Salary: {correlation:.2f}\")\n",
    "print(f\"Average Salary: {merged_data['Rate'].mean():.2f}\")\n",
    "print(f\"Average Years of Experience: {merged_data['YearsOfExperience'].mean():.2f}\")\n",
    "print(\"\\nMerged Data:\")\n",
    "print(merged_data)\n"
   ]
  },
  {
   "cell_type": "markdown",
   "metadata": {},
   "source": [
    "22. Create a pivot table showing the average salary by department and job title."
   ]
  },
  {
   "cell_type": "code",
   "execution_count": 101,
   "metadata": {},
   "outputs": [
    {
     "name": "stdout",
     "output_type": "stream",
     "text": [
      "Pivot Table Showing Average Salary by Department and Job Title:\n",
      "JobTitle      Analyst  Developer  Engineer  Manager  Sales Rep\n",
      "DepartmentID                                                  \n",
      "1             60000.0    95000.0   90000.0      0.0    75000.0\n",
      "2             60000.0        0.0       0.0      0.0        0.0\n",
      "16                0.0        0.0       0.0  85000.0        0.0\n"
     ]
    }
   ],
   "source": [
    "merged_data = pd.merge(employee_data, employeePayHistory_data, on='BusinessEntityID', how='left')\n",
    "merged_data = pd.merge(merged_data, employeeDepartmentHistory_data, on='BusinessEntityID', how='left')\n",
    "\n",
    "#pivot table to show average salary by department and job title\n",
    "pivot_table = pd.pivot_table(\n",
    "    merged_data,\n",
    "    values='Rate',\n",
    "    index='DepartmentID',\n",
    "    columns='JobTitle',\n",
    "    aggfunc='mean',\n",
    "    fill_value=0  # Fill missing values with 0\n",
    ")\n",
    "\n",
    "print(\"Pivot Table Showing Average Salary by Department and Job Title:\")\n",
    "print(pivot_table)\n"
   ]
  },
  {
   "cell_type": "markdown",
   "metadata": {},
   "source": [
    "23. Determine the impact of a salary cap on overall payroll expenses."
   ]
  },
  {
   "cell_type": "code",
   "execution_count": 102,
   "metadata": {},
   "outputs": [
    {
     "name": "stdout",
     "output_type": "stream",
     "text": [
      "Total Payroll Expenses Before Cap: $405,000.00\n",
      "Total Payroll Expenses After Cap: $360,000.00\n",
      "Impact of Salary Cap: $45,000.00\n"
     ]
    }
   ],
   "source": [
    "salary_cap = 75000\n",
    "\n",
    "# Calculate total payroll expenses before applying the cap\n",
    "total_payroll_before_cap = employeePayHistory_data['Rate'].sum()\n",
    "\n",
    "# Apply the salary cap\n",
    "employeePayHistory_data['CappedRate'] = employeePayHistory_data['Rate'].apply(lambda x: min(x, salary_cap))\n",
    "\n",
    "# Calculate total payroll expenses after applying the cap\n",
    "total_payroll_after_cap = employeePayHistory_data['CappedRate'].sum()\n",
    "\n",
    "# Calculate the impact\n",
    "impact = total_payroll_before_cap - total_payroll_after_cap\n",
    "\n",
    "print(\"Total Payroll Expenses Before Cap: ${:,.2f}\".format(total_payroll_before_cap))\n",
    "print(\"Total Payroll Expenses After Cap: ${:,.2f}\".format(total_payroll_after_cap))\n",
    "print(\"Impact of Salary Cap: ${:,.2f}\".format(impact))\n"
   ]
  },
  {
   "cell_type": "markdown",
   "metadata": {},
   "source": [
    "24. Identify salary disparities between departments and suggest adjustments."
   ]
  },
  {
   "cell_type": "code",
   "execution_count": 108,
   "metadata": {},
   "outputs": [
    {
     "name": "stdout",
     "output_type": "stream",
     "text": [
      "Average Salary by Department:\n",
      "    DepartmentID     Rate\n",
      "0              1  80000.0\n",
      "1              2  60000.0\n",
      "2              3      NaN\n",
      "3              4      NaN\n",
      "4              5      NaN\n",
      "5              6      NaN\n",
      "6              7      NaN\n",
      "7              8      NaN\n",
      "8              9      NaN\n",
      "9             10      NaN\n",
      "10            11      NaN\n",
      "11            12      NaN\n",
      "12            13      NaN\n",
      "13            14      NaN\n",
      "14            15      NaN\n",
      "15            16  85000.0\n",
      "\n",
      "Disparities from Overall Average Salary:\n",
      "    DepartmentID     Rate  Disparity\n",
      "0              1  80000.0     5000.0\n",
      "1              2  60000.0   -15000.0\n",
      "2              3      NaN        NaN\n",
      "3              4      NaN        NaN\n",
      "4              5      NaN        NaN\n",
      "5              6      NaN        NaN\n",
      "6              7      NaN        NaN\n",
      "7              8      NaN        NaN\n",
      "8              9      NaN        NaN\n",
      "9             10      NaN        NaN\n",
      "10            11      NaN        NaN\n",
      "11            12      NaN        NaN\n",
      "12            13      NaN        NaN\n",
      "13            14      NaN        NaN\n",
      "14            15      NaN        NaN\n",
      "15            16  85000.0    10000.0\n",
      "\n",
      "Departments with Significant Salary Disparities:\n",
      "    DepartmentID     Rate  Disparity\n",
      "1              2  60000.0   -15000.0\n",
      "15            16  85000.0    10000.0\n"
     ]
    }
   ],
   "source": [
    "# Merge dataframes on BusinessEntityID to get Rate and DepartmentID together\n",
    "merged_data = pd.merge(employeeDepartmentHistory_data, employeePayHistory_data, on='BusinessEntityID', how='left')\n",
    "\n",
    "# Calculate average salary by department\n",
    "average_salary_by_department = merged_data.groupby('DepartmentID')['Rate'].mean().reset_index()\n",
    "\n",
    "# Calculate the overall average salary\n",
    "overall_average_salary = average_salary_by_department['Rate'].mean()\n",
    "\n",
    "# Find departments with significant salary disparities\n",
    "disparities = average_salary_by_department.copy()\n",
    "disparities['Disparity'] = disparities['Rate'] - overall_average_salary\n",
    "\n",
    "print(\"Average Salary by Department:\")\n",
    "print(average_salary_by_department)\n",
    "print(\"\\nDisparities from Overall Average Salary:\")\n",
    "print(disparities)\n",
    "\n",
    "# Suggest adjustments (e.g., departments with salary significantly above or below the average)\n",
    "adjustments_needed = disparities[abs(disparities['Disparity']) > (0.1 * overall_average_salary)]  # Example threshold: 10%\n",
    "print(\"\\nDepartments with Significant Salary Disparities:\")\n",
    "print(adjustments_needed)\n"
   ]
  },
  {
   "cell_type": "markdown",
   "metadata": {},
   "source": [
    "The average_salary_by_department shows average salaries per department, highlighting disparities. The disparities DataFrame reveals which departments are above or below the overall average salary. Departments with significant deviations (e.g., 10% threshold) may need salary adjustments to ensure fairness. For example, Department 30’s salaries are notably below the overall average, indicating a need for potential increases."
   ]
  }
 ],
 "metadata": {
  "kernelspec": {
   "display_name": "Python 3",
   "language": "python",
   "name": "python3"
  },
  "language_info": {
   "codemirror_mode": {
    "name": "ipython",
    "version": 3
   },
   "file_extension": ".py",
   "mimetype": "text/x-python",
   "name": "python",
   "nbconvert_exporter": "python",
   "pygments_lexer": "ipython3",
   "version": "3.9.6"
  }
 },
 "nbformat": 4,
 "nbformat_minor": 2
}
